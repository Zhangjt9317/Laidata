{
  "nbformat": 4,
  "nbformat_minor": 0,
  "metadata": {
    "colab": {
      "name": "proj2_car_classification_new.ipynb",
      "provenance": [],
      "collapsed_sections": [],
      "toc_visible": true,
      "include_colab_link": true
    },
    "kernelspec": {
      "name": "python3",
      "display_name": "Python 3"
    },
    "accelerator": "GPU"
  },
  "cells": [
    {
      "cell_type": "markdown",
      "metadata": {
        "id": "view-in-github",
        "colab_type": "text"
      },
      "source": [
        "<a href=\"https://colab.research.google.com/github/Zhangjt9317/Laidata/blob/master/proj2_car_classification_new.ipynb\" target=\"_parent\"><img src=\"https://colab.research.google.com/assets/colab-badge.svg\" alt=\"Open In Colab\"/></a>"
      ]
    },
    {
      "cell_type": "markdown",
      "metadata": {
        "id": "9iJ4M50yEVvV",
        "colab_type": "text"
      },
      "source": [
        "# Note: Please \"Copy\" this notebook before you work on it !!!!\n",
        "In File   ->   Save a copy in Drive"
      ]
    },
    {
      "cell_type": "markdown",
      "metadata": {
        "id": "utcPLOa0Ot8r",
        "colab_type": "text"
      },
      "source": [
        "# 1.introduction\n",
        "\n",
        "This project is about car classification for [stanford car dataset](https://ai.stanford.edu/~jkrause/cars/car_dataset.html). The Cars dataset contains 16,185 images of 196 classes of cars. The data is split into 8,144 training images and 8,041 testing images, where each class has been split roughly in a 50-50 split. Classes are typically at the level of Make, Model, Year, e.g. 2012 Tesla Model S or 2012 BMW M3 coupe.\n",
        "\n",
        "It is difficult to directly train deep learning model on this dataset because the limited number of images. Thus we decide to use transfer learning, a common approch used in deep learning to utilize the pretrained model on [imagenet](http://www.image-net.org/) and fine-tune on our own dataset, i.e. car dataset.\n",
        "\n",
        "This project can show you how to train and fine-tune a deep learning model using kera (tensorflow backend).\n",
        "\n",
        "![](https://ai.stanford.edu/~jkrause/cars/class_montage.jpg)"
      ]
    },
    {
      "cell_type": "markdown",
      "metadata": {
        "id": "nXw-9h8vVtM-",
        "colab_type": "text"
      },
      "source": [
        "## 1.1 Transfer Learning\n",
        "Transfer learning is one of the most widely used technologies in deep learning and computer vision. If you are not familar with the concept of transfer learning, please refer to our course materials.\n",
        "\n",
        "![](https://cdn-images-1.medium.com/max/2000/1*9GTEzcO8KxxrfutmtsPs3Q.png)"
      ]
    },
    {
      "cell_type": "markdown",
      "metadata": {
        "id": "ppp_D6sdwNIJ",
        "colab_type": "text"
      },
      "source": [
        "# Note\n",
        "use the following keras version for fixed batch norm in transfer learning."
      ]
    },
    {
      "cell_type": "code",
      "metadata": {
        "id": "__hLsOwQwKvC",
        "colab_type": "code",
        "outputId": "075c4f56-3deb-4f36-a87e-a5ee7f3e7456",
        "colab": {
          "base_uri": "https://localhost:8080/",
          "height": 309
        }
      },
      "source": [
        "!pip install -U --force-reinstall --no-dependencies  git+https://github.com/datumbox/keras@bugfix/trainable_bn"
      ],
      "execution_count": 0,
      "outputs": [
        {
          "output_type": "stream",
          "text": [
            "Collecting git+https://github.com/datumbox/keras@bugfix/trainable_bn\n",
            "  Cloning https://github.com/datumbox/keras (to revision bugfix/trainable_bn) to /tmp/pip-req-build-c2sefhem\n",
            "  Running command git clone -q https://github.com/datumbox/keras /tmp/pip-req-build-c2sefhem\n",
            "  Running command git checkout -b bugfix/trainable_bn --track origin/bugfix/trainable_bn\n",
            "  Switched to a new branch 'bugfix/trainable_bn'\n",
            "  Branch 'bugfix/trainable_bn' set up to track remote branch 'bugfix/trainable_bn' from 'origin'.\n",
            "Building wheels for collected packages: Keras\n",
            "  Building wheel for Keras (setup.py) ... \u001b[?25l\u001b[?25hdone\n",
            "  Created wheel for Keras: filename=Keras-2.2.4-cp36-none-any.whl size=311046 sha256=b3c5e2eb407e134c8031b04ab6b82e17194fdafe8fd0e906283f64cfdd63d1a2\n",
            "  Stored in directory: /tmp/pip-ephem-wheel-cache-dwmzdiyt/wheels/36/5d/50/99c268bf64c1394c4f5b743164e4e515ab30290a523595ac47\n",
            "Successfully built Keras\n",
            "Installing collected packages: Keras\n",
            "  Found existing installation: Keras 2.2.5\n",
            "    Uninstalling Keras-2.2.5:\n",
            "      Successfully uninstalled Keras-2.2.5\n",
            "Successfully installed Keras-2.2.4\n"
          ],
          "name": "stdout"
        }
      ]
    },
    {
      "cell_type": "markdown",
      "metadata": {
        "id": "TQX6MYbnQswu",
        "colab_type": "text"
      },
      "source": [
        "# 2.Import & read data"
      ]
    },
    {
      "cell_type": "markdown",
      "metadata": {
        "id": "105nCy6QR3TK",
        "colab_type": "text"
      },
      "source": [
        "## 2.1 mount google drive to colab"
      ]
    },
    {
      "cell_type": "code",
      "metadata": {
        "id": "6JmF_9B0Mydy",
        "colab_type": "code",
        "outputId": "a42e6f07-1fbc-45d2-bac5-202aef5896de",
        "colab": {
          "base_uri": "https://localhost:8080/",
          "height": 124
        }
      },
      "source": [
        "# mount goolge drive to colab\n",
        "from google.colab import drive\n",
        "drive.mount('/content/drive')"
      ],
      "execution_count": 0,
      "outputs": [
        {
          "output_type": "stream",
          "text": [
            "Go to this URL in a browser: https://accounts.google.com/o/oauth2/auth?client_id=947318989803-6bn6qk8qdgf4n4g3pfee6491hc0brc4i.apps.googleusercontent.com&redirect_uri=urn%3Aietf%3Awg%3Aoauth%3A2.0%3Aoob&scope=email%20https%3A%2F%2Fwww.googleapis.com%2Fauth%2Fdocs.test%20https%3A%2F%2Fwww.googleapis.com%2Fauth%2Fdrive%20https%3A%2F%2Fwww.googleapis.com%2Fauth%2Fdrive.photos.readonly%20https%3A%2F%2Fwww.googleapis.com%2Fauth%2Fpeopleapi.readonly&response_type=code\n",
            "\n",
            "Enter your authorization code:\n",
            "··········\n",
            "Mounted at /content/drive\n"
          ],
          "name": "stdout"
        }
      ]
    },
    {
      "cell_type": "code",
      "metadata": {
        "id": "hfrCsl3SfG7a",
        "colab_type": "code",
        "outputId": "076a25ec-fc2a-4bc6-d63e-c06a6a7b8569",
        "colab": {
          "base_uri": "https://localhost:8080/",
          "height": 1000
        }
      },
      "source": [
        "!cp -rvf /content/drive/My\\ Drive/car_dataset /content/"
      ],
      "execution_count": 0,
      "outputs": [
        {
          "output_type": "stream",
          "text": [
            "'/content/drive/My Drive/car_dataset' -> '/content/car_dataset'\n",
            "'/content/drive/My Drive/car_dataset/devkit' -> '/content/car_dataset/devkit'\n",
            "'/content/drive/My Drive/car_dataset/test' -> '/content/car_dataset/test'\n",
            "'/content/drive/My Drive/car_dataset/test/135' -> '/content/car_dataset/test/135'\n",
            "'/content/drive/My Drive/car_dataset/test/135/04354.jpg' -> '/content/car_dataset/test/135/04354.jpg'\n",
            "'/content/drive/My Drive/car_dataset/test/135/06609.jpg' -> '/content/car_dataset/test/135/06609.jpg'\n",
            "'/content/drive/My Drive/car_dataset/test/135/03981.jpg' -> '/content/car_dataset/test/135/03981.jpg'\n",
            "'/content/drive/My Drive/car_dataset/test/135/02447.jpg' -> '/content/car_dataset/test/135/02447.jpg'\n",
            "'/content/drive/My Drive/car_dataset/test/135/02693.jpg' -> '/content/car_dataset/test/135/02693.jpg'\n",
            "'/content/drive/My Drive/car_dataset/test/135/05677.jpg' -> '/content/car_dataset/test/135/05677.jpg'\n",
            "'/content/drive/My Drive/car_dataset/test/135/00278.jpg' -> '/content/car_dataset/test/135/00278.jpg'\n",
            "'/content/drive/My Drive/car_dataset/test/135/05909.jpg' -> '/content/car_dataset/test/135/05909.jpg'\n",
            "'/content/drive/My Drive/car_dataset/test/135/05926.jpg' -> '/content/car_dataset/test/135/05926.jpg'\n",
            "'/content/drive/My Drive/car_dataset/test/135/01991.jpg' -> '/content/car_dataset/test/135/01991.jpg'\n",
            "'/content/drive/My Drive/car_dataset/test/135/00185.jpg' -> '/content/car_dataset/test/135/00185.jpg'\n",
            "'/content/drive/My Drive/car_dataset/test/135/04872.jpg' -> '/content/car_dataset/test/135/04872.jpg'\n",
            "'/content/drive/My Drive/car_dataset/test/135/00784.jpg' -> '/content/car_dataset/test/135/00784.jpg'\n",
            "'/content/drive/My Drive/car_dataset/test/135/03882.jpg' -> '/content/car_dataset/test/135/03882.jpg'\n",
            "'/content/drive/My Drive/car_dataset/test/135/05571.jpg' -> '/content/car_dataset/test/135/05571.jpg'\n",
            "'/content/drive/My Drive/car_dataset/test/135/01200.jpg' -> '/content/car_dataset/test/135/01200.jpg'\n",
            "'/content/drive/My Drive/car_dataset/test/135/01859.jpg' -> '/content/car_dataset/test/135/01859.jpg'\n",
            "'/content/drive/My Drive/car_dataset/test/135/01535.jpg' -> '/content/car_dataset/test/135/01535.jpg'\n",
            "'/content/drive/My Drive/car_dataset/test/135/03501.jpg' -> '/content/car_dataset/test/135/03501.jpg'\n",
            "'/content/drive/My Drive/car_dataset/test/135/02613.jpg' -> '/content/car_dataset/test/135/02613.jpg'\n",
            "'/content/drive/My Drive/car_dataset/test/135/06307.jpg' -> '/content/car_dataset/test/135/06307.jpg'\n",
            "'/content/drive/My Drive/car_dataset/test/135/07350.jpg' -> '/content/car_dataset/test/135/07350.jpg'\n",
            "'/content/drive/My Drive/car_dataset/test/135/07778.jpg' -> '/content/car_dataset/test/135/07778.jpg'\n",
            "'/content/drive/My Drive/car_dataset/test/135/03321.jpg' -> '/content/car_dataset/test/135/03321.jpg'\n",
            "'/content/drive/My Drive/car_dataset/test/135/01907.jpg' -> '/content/car_dataset/test/135/01907.jpg'\n",
            "'/content/drive/My Drive/car_dataset/test/135/02611.jpg' -> '/content/car_dataset/test/135/02611.jpg'\n",
            "'/content/drive/My Drive/car_dataset/test/135/05354.jpg' -> '/content/car_dataset/test/135/05354.jpg'\n",
            "'/content/drive/My Drive/car_dataset/test/135/00363.jpg' -> '/content/car_dataset/test/135/00363.jpg'\n",
            "'/content/drive/My Drive/car_dataset/test/135/00014.jpg' -> '/content/car_dataset/test/135/00014.jpg'\n",
            "'/content/drive/My Drive/car_dataset/test/135/01393.jpg' -> '/content/car_dataset/test/135/01393.jpg'\n",
            "'/content/drive/My Drive/car_dataset/test/135/04107.jpg' -> '/content/car_dataset/test/135/04107.jpg'\n",
            "'/content/drive/My Drive/car_dataset/test/135/01137.jpg' -> '/content/car_dataset/test/135/01137.jpg'\n",
            "'/content/drive/My Drive/car_dataset/test/135/04809.jpg' -> '/content/car_dataset/test/135/04809.jpg'\n",
            "'/content/drive/My Drive/car_dataset/test/135/06880.jpg' -> '/content/car_dataset/test/135/06880.jpg'\n",
            "'/content/drive/My Drive/car_dataset/test/135/01155.jpg' -> '/content/car_dataset/test/135/01155.jpg'\n",
            "'/content/drive/My Drive/car_dataset/test/135/07481.jpg' -> '/content/car_dataset/test/135/07481.jpg'\n",
            "'/content/drive/My Drive/car_dataset/test/135/05596.jpg' -> '/content/car_dataset/test/135/05596.jpg'\n",
            "'/content/drive/My Drive/car_dataset/test/135/04215.jpg' -> '/content/car_dataset/test/135/04215.jpg'\n",
            "'/content/drive/My Drive/car_dataset/test/135/06835.jpg' -> '/content/car_dataset/test/135/06835.jpg'\n",
            "'/content/drive/My Drive/car_dataset/test/135/01541.jpg' -> '/content/car_dataset/test/135/01541.jpg'\n",
            "'/content/drive/My Drive/car_dataset/test/135/05444.jpg' -> '/content/car_dataset/test/135/05444.jpg'\n",
            "'/content/drive/My Drive/car_dataset/test/135/01619.jpg' -> '/content/car_dataset/test/135/01619.jpg'\n",
            "'/content/drive/My Drive/car_dataset/test/68' -> '/content/car_dataset/test/68'\n",
            "'/content/drive/My Drive/car_dataset/test/68/04630.jpg' -> '/content/car_dataset/test/68/04630.jpg'\n",
            "'/content/drive/My Drive/car_dataset/test/68/06426.jpg' -> '/content/car_dataset/test/68/06426.jpg'\n",
            "'/content/drive/My Drive/car_dataset/test/68/02008.jpg' -> '/content/car_dataset/test/68/02008.jpg'\n",
            "'/content/drive/My Drive/car_dataset/test/68/00351.jpg' -> '/content/car_dataset/test/68/00351.jpg'\n",
            "'/content/drive/My Drive/car_dataset/test/68/01842.jpg' -> '/content/car_dataset/test/68/01842.jpg'\n",
            "'/content/drive/My Drive/car_dataset/test/68/00744.jpg' -> '/content/car_dataset/test/68/00744.jpg'\n",
            "'/content/drive/My Drive/car_dataset/test/68/05763.jpg' -> '/content/car_dataset/test/68/05763.jpg'\n",
            "'/content/drive/My Drive/car_dataset/test/68/06152.jpg' -> '/content/car_dataset/test/68/06152.jpg'\n",
            "'/content/drive/My Drive/car_dataset/test/68/01798.jpg' -> '/content/car_dataset/test/68/01798.jpg'\n",
            "'/content/drive/My Drive/car_dataset/test/68/05138.jpg' -> '/content/car_dataset/test/68/05138.jpg'\n",
            "'/content/drive/My Drive/car_dataset/test/68/01642.jpg' -> '/content/car_dataset/test/68/01642.jpg'\n",
            "'/content/drive/My Drive/car_dataset/test/68/03727.jpg' -> '/content/car_dataset/test/68/03727.jpg'\n",
            "'/content/drive/My Drive/car_dataset/test/68/02834.jpg' -> '/content/car_dataset/test/68/02834.jpg'\n",
            "'/content/drive/My Drive/car_dataset/test/68/02155.jpg' -> '/content/car_dataset/test/68/02155.jpg'\n",
            "'/content/drive/My Drive/car_dataset/test/68/06649.jpg' -> '/content/car_dataset/test/68/06649.jpg'\n",
            "'/content/drive/My Drive/car_dataset/test/68/05369.jpg' -> '/content/car_dataset/test/68/05369.jpg'\n",
            "'/content/drive/My Drive/car_dataset/test/68/03903.jpg' -> '/content/car_dataset/test/68/03903.jpg'\n",
            "'/content/drive/My Drive/car_dataset/test/68/07152.jpg' -> '/content/car_dataset/test/68/07152.jpg'\n",
            "'/content/drive/My Drive/car_dataset/test/68/00555.jpg' -> '/content/car_dataset/test/68/00555.jpg'\n",
            "'/content/drive/My Drive/car_dataset/test/68/06510.jpg' -> '/content/car_dataset/test/68/06510.jpg'\n",
            "'/content/drive/My Drive/car_dataset/test/68/03817.jpg' -> '/content/car_dataset/test/68/03817.jpg'\n",
            "'/content/drive/My Drive/car_dataset/test/68/00941.jpg' -> '/content/car_dataset/test/68/00941.jpg'\n",
            "'/content/drive/My Drive/car_dataset/test/68/04089.jpg' -> '/content/car_dataset/test/68/04089.jpg'\n",
            "'/content/drive/My Drive/car_dataset/test/68/05963.jpg' -> '/content/car_dataset/test/68/05963.jpg'\n",
            "'/content/drive/My Drive/car_dataset/test/68/03680.jpg' -> '/content/car_dataset/test/68/03680.jpg'\n",
            "'/content/drive/My Drive/car_dataset/test/68/00488.jpg' -> '/content/car_dataset/test/68/00488.jpg'\n",
            "'/content/drive/My Drive/car_dataset/test/68/01769.jpg' -> '/content/car_dataset/test/68/01769.jpg'\n",
            "'/content/drive/My Drive/car_dataset/test/68/01390.jpg' -> '/content/car_dataset/test/68/01390.jpg'\n",
            "'/content/drive/My Drive/car_dataset/test/68/06399.jpg' -> '/content/car_dataset/test/68/06399.jpg'\n",
            "'/content/drive/My Drive/car_dataset/test/68/01121.jpg' -> '/content/car_dataset/test/68/01121.jpg'\n",
            "'/content/drive/My Drive/car_dataset/test/68/03150.jpg' -> '/content/car_dataset/test/68/03150.jpg'\n",
            "'/content/drive/My Drive/car_dataset/test/68/01347.jpg' -> '/content/car_dataset/test/68/01347.jpg'\n",
            "'/content/drive/My Drive/car_dataset/test/68/02935.jpg' -> '/content/car_dataset/test/68/02935.jpg'\n",
            "'/content/drive/My Drive/car_dataset/test/68/01424.jpg' -> '/content/car_dataset/test/68/01424.jpg'\n",
            "'/content/drive/My Drive/car_dataset/test/68/06565.jpg' -> '/content/car_dataset/test/68/06565.jpg'\n",
            "'/content/drive/My Drive/car_dataset/test/68/04205.jpg' -> '/content/car_dataset/test/68/04205.jpg'\n",
            "'/content/drive/My Drive/car_dataset/test/68/06954.jpg' -> '/content/car_dataset/test/68/06954.jpg'\n",
            "'/content/drive/My Drive/car_dataset/test/68/07486.jpg' -> '/content/car_dataset/test/68/07486.jpg'\n",
            "'/content/drive/My Drive/car_dataset/test/68/02475.jpg' -> '/content/car_dataset/test/68/02475.jpg'\n",
            "'/content/drive/My Drive/car_dataset/test/68/07243.jpg' -> '/content/car_dataset/test/68/07243.jpg'\n",
            "'/content/drive/My Drive/car_dataset/test/61' -> '/content/car_dataset/test/61'\n",
            "'/content/drive/My Drive/car_dataset/test/61/04203.jpg' -> '/content/car_dataset/test/61/04203.jpg'\n",
            "'/content/drive/My Drive/car_dataset/test/61/04801.jpg' -> '/content/car_dataset/test/61/04801.jpg'\n",
            "'/content/drive/My Drive/car_dataset/test/61/04391.jpg' -> '/content/car_dataset/test/61/04391.jpg'\n",
            "'/content/drive/My Drive/car_dataset/test/61/00118.jpg' -> '/content/car_dataset/test/61/00118.jpg'\n",
            "'/content/drive/My Drive/car_dataset/test/61/01818.jpg' -> '/content/car_dataset/test/61/01818.jpg'\n",
            "'/content/drive/My Drive/car_dataset/test/61/01417.jpg' -> '/content/car_dataset/test/61/01417.jpg'\n",
            "'/content/drive/My Drive/car_dataset/test/61/07328.jpg' -> '/content/car_dataset/test/61/07328.jpg'\n"
          ],
          "name": "stdout"
        }
      ]
    },
    {
      "cell_type": "markdown",
      "metadata": {
        "id": "by6UsW5wRBNm",
        "colab_type": "text"
      },
      "source": [
        "## 2.2 Copy file from google drive to colab"
      ]
    },
    {
      "cell_type": "code",
      "metadata": {
        "id": "Xv-aPfnir3Wd",
        "colab_type": "code",
        "colab": {}
      },
      "source": [
        "from tensorflow import gfile\n",
        "import os\n",
        "import zipfile\n",
        "import tarfile"
      ],
      "execution_count": 0,
      "outputs": []
    },
    {
      "cell_type": "code",
      "metadata": {
        "id": "sUjMUUXHX6yK",
        "colab_type": "code",
        "outputId": "97d5eb47-9eda-4764-a5b5-cd41b854fa93",
        "colab": {
          "base_uri": "https://localhost:8080/",
          "height": 69
        }
      },
      "source": [
        "%%time\n",
        "if os.path.exists(\"drive/My Drive/car_dataset.tar\"):\n",
        "  gfile.Copy(\"drive/My Drive/car_dataset.tar\", \"./car_dataset.tar\", )\n",
        "print(os.listdir(\".\"))"
      ],
      "execution_count": 0,
      "outputs": [
        {
          "output_type": "stream",
          "text": [
            "['.config', 'drive', 'car_dataset.tar', 'sample_data']\n",
            "CPU times: user 1.74 ms, sys: 5.12 s, total: 5.12 s\n",
            "Wall time: 37.7 s\n"
          ],
          "name": "stdout"
        }
      ]
    },
    {
      "cell_type": "markdown",
      "metadata": {
        "id": "hwNfXQOvRRyy",
        "colab_type": "text"
      },
      "source": [
        "## 2.3 Extract dataset files"
      ]
    },
    {
      "cell_type": "code",
      "metadata": {
        "id": "vYckpehU4u8O",
        "colab_type": "code",
        "outputId": "e1fbb8ef-ea35-4a0b-bd4c-443f39db84e3",
        "colab": {
          "base_uri": "https://localhost:8080/",
          "height": 52
        }
      },
      "source": [
        "%%time\n",
        "tar = tarfile.open(\"./car_dataset.tar\", \"r\")\n",
        "tar.extractall(path=\".\")"
      ],
      "execution_count": 0,
      "outputs": [
        {
          "output_type": "stream",
          "text": [
            "CPU times: user 7.08 s, sys: 9.86 s, total: 16.9 s\n",
            "Wall time: 30 s\n"
          ],
          "name": "stdout"
        }
      ]
    },
    {
      "cell_type": "code",
      "metadata": {
        "id": "-hFcV9hR5h4T",
        "colab_type": "code",
        "outputId": "38a031f9-1313-4bd4-bcdf-211ac21e47a1",
        "colab": {
          "base_uri": "https://localhost:8080/",
          "height": 55
        }
      },
      "source": [
        "print(os.listdir(\"./car_dataset\"))"
      ],
      "execution_count": 0,
      "outputs": [
        {
          "output_type": "stream",
          "text": [
            "['cars_test', 'devkit', 'test', '.DS_Store', 'train', 'read_label.py', 'cars_train']\n"
          ],
          "name": "stdout"
        }
      ]
    },
    {
      "cell_type": "markdown",
      "metadata": {
        "id": "gFh72b__R9Cd",
        "colab_type": "text"
      },
      "source": [
        "# 3.Build model"
      ]
    },
    {
      "cell_type": "markdown",
      "metadata": {
        "id": "zrbjT9XNSHaF",
        "colab_type": "text"
      },
      "source": [
        "## 3.1 Load packages\n",
        "\n",
        "The keras and tensorflow have been pre-installled on colab, and we do not need re-install these packages."
      ]
    },
    {
      "cell_type": "code",
      "metadata": {
        "id": "Ll778O7XWLN0",
        "colab_type": "code",
        "outputId": "18ceeba6-2315-4b36-ecae-5f8929561104",
        "colab": {
          "base_uri": "https://localhost:8080/",
          "height": 35
        }
      },
      "source": [
        "from keras.preprocessing import image\n",
        "from keras.applications import vgg16\n",
        "from keras.applications import vgg19\n",
        "from keras.applications import resnet50\n",
        "from keras.applications import inception_v3\n",
        "from keras.layers import GlobalAveragePooling2D, Dense, Dropout, Flatten\n",
        "from keras.models import Model, Sequential\n",
        "from keras import optimizers\n",
        "from keras.callbacks import TensorBoard, ModelCheckpoint, EarlyStopping\n",
        "# import argparse\n",
        "from time import time\n",
        "\n",
        "from skimage import exposure, color\n",
        "\n",
        "from keras import backend as K\n",
        "# K.common.image_dim_ordering()\n",
        "K.set_image_dim_ordering('tf')"
      ],
      "execution_count": 0,
      "outputs": [
        {
          "output_type": "stream",
          "text": [
            "Using TensorFlow backend.\n"
          ],
          "name": "stderr"
        }
      ]
    },
    {
      "cell_type": "markdown",
      "metadata": {
        "id": "_BVSYj_zSuKP",
        "colab_type": "text"
      },
      "source": [
        "## 3.2 Initalize model\n",
        "In this step, we will initalize our architecture. We use predefined architectures such as resnet50/vgg19/inception, you can also use your own architectures."
      ]
    },
    {
      "cell_type": "code",
      "metadata": {
        "id": "RNb0uGI7uHxF",
        "colab_type": "code",
        "colab": {}
      },
      "source": [
        "def init_model(train_dir, val_dir, batch_size=32, model_name='vgg19', num_class=196, img_size=224):\n",
        "    \"\"\"\n",
        "    initialize cnn model and training and validation data generator\n",
        "    parms:\n",
        "        args: parsed commandline arguments\n",
        "    return:\n",
        "        model: initialized model\n",
        "        train_generator: training data generator\n",
        "        validation_generator: validation data generator\n",
        "    \"\"\"\n",
        "    \n",
        "\n",
        "    print('loading the model and the pre-trained weights...')\n",
        "\n",
        "    # load base model\n",
        "    if model_name == 'vgg19':\n",
        "        base_model = vgg19.VGG19(include_top=False, weights='imagenet', input_shape = (img_size, img_size, 3)) # need specify input_shape\n",
        "        # this preprocess_input is the default preprocess func for given network, you can change it or implement your own \n",
        "        # use inception_v3 preprocess for vgg16, it seems that it works better than vgg16.preprocess_input\n",
        "        preprocess_input = vgg19.preprocess_input\n",
        "\n",
        "    # initalize training image data generator'\n",
        "    # you can also specify data augmentation here\n",
        "    train_datagen = image.ImageDataGenerator(\n",
        "        # width_shift_range=0.1,\n",
        "        # height_shift_range=0.1,\n",
        "        # samplewise_center=True,l\n",
        "        # samplewise_std_normalization=True,\n",
        "        # rescale=1./255,\n",
        "        preprocessing_function=preprocess_input,\n",
        "        # rotation_range=30,\n",
        "        # shear_range=0.1,\n",
        "        # zoom_range=0.1,\n",
        "        # vertical_flip=True,\n",
        "        horizontal_flip=True\n",
        "        )\n",
        "\n",
        "    # initalize validation image data generator\n",
        "    # you can also specify data augmentation here\n",
        "    validation_datagen = image.ImageDataGenerator(\n",
        "        # samplewise_center=True,\n",
        "        # samplewise_std_normalization=True\n",
        "        # rescale=1./255\n",
        "        preprocessing_function=preprocess_input # preprocess_input\n",
        "        )\n",
        "\n",
        "    train_generator = train_datagen.flow_from_directory(\n",
        "        train_dir,\n",
        "        target_size=(img_size, img_size),\n",
        "        batch_size=batch_size,\n",
        "        class_mode='categorical')     \n",
        "\n",
        "    validation_generator = validation_datagen.flow_from_directory(\n",
        "        val_dir,\n",
        "        # color_mode='grayscale',  # 'rgb'\n",
        "        target_size=(img_size, img_size),\n",
        "        batch_size=batch_size,\n",
        "        class_mode='categorical')\n",
        "\n",
        "    # fix base_model layers\n",
        "    for layer in base_model.layers:\n",
        "        layer.trainable = False\n",
        "\n",
        "    # added some customized layers for your own data\n",
        "    x = base_model.output\n",
        "    if model_name == 'vgg19':\n",
        "        x = GlobalAveragePooling2D(name='avg_pool')(x)\n",
        "        # x = Flatten(name='flatten')(x)\n",
        "        # x = Dense(512, activation='relu', name='fc1-pretrain')(x)\n",
        "        x = Dense(256, activation='relu', name='fc2-pretrain')(x)\n",
        "        x = Dropout(0.3, name='dropout')(x)\n",
        "\n",
        "    # added softmax layer\n",
        "    predictions = Dense(num_class, activation='softmax', name='predictions')(x)\n",
        "\n",
        "    model = Model(inputs=base_model.input, outputs=predictions)\n",
        "    \n",
        "    sgd = optimizers.SGD(lr=0.01, decay=1e-6, momentum=0.9, nesterov=True)\n",
        "    adam = optimizers.Adam()\n",
        "    # model.compile(loss='mean_squared_error', optimizer=sgd)\n",
        "    model.compile(loss=\"categorical_crossentropy\", optimizer=adam, metrics=[\"accuracy\"])\n",
        "\n",
        "    return model, train_generator, validation_generator"
      ],
      "execution_count": 0,
      "outputs": []
    },
    {
      "cell_type": "markdown",
      "metadata": {
        "id": "GRiaN8q5TLNb",
        "colab_type": "text"
      },
      "source": [
        "## 3.3 train model\n",
        "This part defines the function to train our model. We can specify the training parameters such as number of epochs, optimizers, and etc here."
      ]
    },
    {
      "cell_type": "code",
      "metadata": {
        "id": "n_r-lCXKuXbB",
        "colab_type": "code",
        "colab": {}
      },
      "source": [
        "def train(model, train_generator, validation_generator, num_class=196, model_name='vgg19', batch_size=32, epochs=30, suffix='laioffer'):\n",
        "    \"\"\"\n",
        "    train the model\n",
        "    parms:\n",
        "        model: initialized model\n",
        "        train_generator: training data generator\n",
        "        validation_generator: validation data generator\n",
        "        args: parsed command line arguments\n",
        "    return:\n",
        "    \"\"\"\n",
        "    # define number of steps/iterators per epoch\n",
        "    stepsPerEpoch = train_generator.samples / batch_size\n",
        "    validationSteps= validation_generator.samples / batch_size\n",
        "\n",
        "    # save the snapshot of the model to local drive\n",
        "    pretrain_model_name = 'pretrained_{}_{}_{}_{}.h5'.format(model_name, num_class, epochs, suffix)\n",
        "    # visualize the training process\n",
        "    tensorboard = TensorBoard(log_dir=\"logs/{}_pretrain_{}\".format(model_name, time()), histogram_freq=0, write_graph=True)\n",
        "    checkpoint = ModelCheckpoint(pretrain_model_name, monitor='val_acc', verbose=1, save_best_only=True, save_weights_only=False, mode='auto', period=1)\n",
        "    earlystopping = EarlyStopping(monitor='acc', patience=5)\n",
        "    callbacks_list = [checkpoint, tensorboard, earlystopping]\n",
        "\n",
        "    history = model.fit_generator(\n",
        "        train_generator,\n",
        "        steps_per_epoch=stepsPerEpoch,\n",
        "        epochs=epochs,\n",
        "        callbacks = callbacks_list,\n",
        "        validation_data = validation_generator,\n",
        "        validation_steps=validationSteps)\n",
        "    return history"
      ],
      "execution_count": 0,
      "outputs": []
    },
    {
      "cell_type": "markdown",
      "metadata": {
        "id": "VffEttnvTo9r",
        "colab_type": "text"
      },
      "source": [
        "## 3.4 Fine-tune model\n",
        "This part defines the function to fine-tune the pre-trained model on our datset. If you do not have enough data, you may consider fine-tune less layers."
      ]
    },
    {
      "cell_type": "code",
      "metadata": {
        "id": "LSAFORczK7pU",
        "colab_type": "code",
        "colab": {}
      },
      "source": [
        " def fine_tune(model, train_generator, validation_generator, num_class=196, model_name='vgg19', batch_size=32, epochs=50, suffix='laioffer'):\n",
        "    \"\"\"\n",
        "    fine tune the model\n",
        "    parms:\n",
        "        model: initialized model\n",
        "        train_generator: training data generator\n",
        "        validation_generator: validation data generator\n",
        "        args: parsed command line arguments\n",
        "    return:\n",
        "    \"\"\"\n",
        "    # for specific architectures, define number of trainable layers\n",
        "    if model_name == 'vgg19':\n",
        "        trainable_layers = 6\n",
        "\n",
        "    for layer in model.layers[:-1*trainable_layers]:\n",
        "        layer.trainable = False\n",
        "\n",
        "    for layer in model.layers[-1*trainable_layers:]:\n",
        "        layer.trainable = True\n",
        "\n",
        "    finetune_model_name = 'finetuned_{}_{}_{}_{}.h5'.format(model_name, num_class, epochs, suffix)\n",
        "    tensorboard = TensorBoard(log_dir=\"logs/{}_finetune_{}\".format(model_name, time()), histogram_freq=0, write_graph=True)\n",
        "    checkpoint = ModelCheckpoint(finetune_model_name, monitor='val_acc', verbose=1, save_best_only=True, save_weights_only=False, mode='auto', period=1)\n",
        "    earlystopping = EarlyStopping(monitor='acc', patience=5)\n",
        "    callbacks_list = [checkpoint, tensorboard, earlystopping]\n",
        "\n",
        "    model.compile(loss=\"categorical_crossentropy\", optimizer=optimizers.SGD(lr=0.0001, momentum=0.9),metrics=[\"accuracy\"])\n",
        "\n",
        "    stepsPerEpoch = train_generator.samples / batch_size\n",
        "    validationSteps= validation_generator.samples / batch_size\n",
        "    history = model.fit_generator(\n",
        "        train_generator,\n",
        "        steps_per_epoch=stepsPerEpoch,\n",
        "        epochs=epochs,\n",
        "        callbacks = callbacks_list,\n",
        "        validation_data = validation_generator,\n",
        "        validation_steps=validationSteps)\n",
        "    return history"
      ],
      "execution_count": 0,
      "outputs": []
    },
    {
      "cell_type": "markdown",
      "metadata": {
        "id": "ZY8jM59qUxsk",
        "colab_type": "text"
      },
      "source": [
        "# 4.Experiment"
      ]
    },
    {
      "cell_type": "markdown",
      "metadata": {
        "id": "KlAM5CBAURLo",
        "colab_type": "text"
      },
      "source": [
        "## 4.1.Train/fine-tune model\n",
        "We can start to train and fine-tune our model here."
      ]
    },
    {
      "cell_type": "code",
      "metadata": {
        "id": "6Yvky52W4-ty",
        "colab_type": "code",
        "outputId": "1b7f960a-305c-4632-dc4e-e6a5555df5fc",
        "colab": {
          "base_uri": "https://localhost:8080/",
          "height": 1000
        }
      },
      "source": [
        "# initialize model\n",
        "model, train_generator, validation_generator = init_model(train_dir='car_dataset/train', model_name='vgg19', val_dir='car_dataset/test', num_class=196)\n",
        "# pretrain model\n",
        "train(model, train_generator, validation_generator, num_class=196, model_name='vgg19', epochs=15)\n",
        "# fine-tune model   \n",
        "history = fine_tune(model, train_generator, validation_generator, num_class=196, model_name='vgg19', epochs=30)"
      ],
      "execution_count": 0,
      "outputs": [
        {
          "output_type": "stream",
          "text": [
            "loading the model and the pre-trained weights...\n",
            "WARNING:tensorflow:From /usr/local/lib/python3.6/dist-packages/keras/backend/tensorflow_backend.py:74: The name tf.get_default_graph is deprecated. Please use tf.compat.v1.get_default_graph instead.\n",
            "\n",
            "WARNING:tensorflow:From /usr/local/lib/python3.6/dist-packages/keras/backend/tensorflow_backend.py:517: The name tf.placeholder is deprecated. Please use tf.compat.v1.placeholder instead.\n",
            "\n",
            "WARNING:tensorflow:From /usr/local/lib/python3.6/dist-packages/keras/backend/tensorflow_backend.py:4138: The name tf.random_uniform is deprecated. Please use tf.random.uniform instead.\n",
            "\n",
            "WARNING:tensorflow:From /usr/local/lib/python3.6/dist-packages/keras/backend/tensorflow_backend.py:3976: The name tf.nn.max_pool is deprecated. Please use tf.nn.max_pool2d instead.\n",
            "\n",
            "Downloading data from https://github.com/fchollet/deep-learning-models/releases/download/v0.1/vgg19_weights_tf_dim_ordering_tf_kernels_notop.h5\n",
            "80142336/80134624 [==============================] - 1s 0us/step\n",
            "WARNING:tensorflow:From /usr/local/lib/python3.6/dist-packages/keras/backend/tensorflow_backend.py:174: The name tf.get_default_session is deprecated. Please use tf.compat.v1.get_default_session instead.\n",
            "\n",
            "WARNING:tensorflow:From /usr/local/lib/python3.6/dist-packages/keras/backend/tensorflow_backend.py:181: The name tf.ConfigProto is deprecated. Please use tf.compat.v1.ConfigProto instead.\n",
            "\n",
            "Found 8144 images belonging to 196 classes.\n",
            "Found 8041 images belonging to 196 classes.\n",
            "WARNING:tensorflow:From /usr/local/lib/python3.6/dist-packages/keras/backend/tensorflow_backend.py:3445: calling dropout (from tensorflow.python.ops.nn_ops) with keep_prob is deprecated and will be removed in a future version.\n",
            "Instructions for updating:\n",
            "Please use `rate` instead of `keep_prob`. Rate should be set to `rate = 1 - keep_prob`.\n",
            "WARNING:tensorflow:From /usr/local/lib/python3.6/dist-packages/keras/optimizers.py:790: The name tf.train.Optimizer is deprecated. Please use tf.compat.v1.train.Optimizer instead.\n",
            "\n",
            "WARNING:tensorflow:From /usr/local/lib/python3.6/dist-packages/tensorflow/python/ops/math_grad.py:1250: add_dispatch_support.<locals>.wrapper (from tensorflow.python.ops.array_ops) is deprecated and will be removed in a future version.\n",
            "Instructions for updating:\n",
            "Use tf.where in 2.0, which has the same broadcast rule as np.where\n",
            "WARNING:tensorflow:From /usr/local/lib/python3.6/dist-packages/keras/callbacks.py:849: The name tf.summary.merge_all is deprecated. Please use tf.compat.v1.summary.merge_all instead.\n",
            "\n",
            "WARNING:tensorflow:From /usr/local/lib/python3.6/dist-packages/keras/callbacks.py:852: The name tf.summary.FileWriter is deprecated. Please use tf.compat.v1.summary.FileWriter instead.\n",
            "\n",
            "Epoch 1/15\n",
            "255/254 [==============================] - 213s 836ms/step - loss: 5.6657 - acc: 0.0148 - val_loss: 4.9366 - val_acc: 0.0327\n",
            "\n",
            "Epoch 00001: val_acc improved from -inf to 0.03271, saving model to pretrained_vgg19_196_15_laioffer.h5\n",
            "Epoch 2/15\n",
            "255/254 [==============================] - 205s 803ms/step - loss: 4.6852 - acc: 0.0515 - val_loss: 4.2090 - val_acc: 0.0869\n",
            "\n",
            "Epoch 00002: val_acc improved from 0.03271 to 0.08693, saving model to pretrained_vgg19_196_15_laioffer.h5\n",
            "Epoch 3/15\n",
            "255/254 [==============================] - 205s 803ms/step - loss: 4.1032 - acc: 0.0971 - val_loss: 3.7584 - val_acc: 0.1446\n",
            "\n",
            "Epoch 00003: val_acc improved from 0.08693 to 0.14463, saving model to pretrained_vgg19_196_15_laioffer.h5\n",
            "Epoch 4/15\n",
            "255/254 [==============================] - 206s 808ms/step - loss: 3.6281 - acc: 0.1538 - val_loss: 3.4376 - val_acc: 0.1949\n",
            "\n",
            "Epoch 00004: val_acc improved from 0.14463 to 0.19488, saving model to pretrained_vgg19_196_15_laioffer.h5\n",
            "Epoch 5/15\n",
            "255/254 [==============================] - 207s 810ms/step - loss: 3.2701 - acc: 0.2071 - val_loss: 3.1927 - val_acc: 0.2365\n",
            "\n",
            "Epoch 00005: val_acc improved from 0.19488 to 0.23654, saving model to pretrained_vgg19_196_15_laioffer.h5\n",
            "Epoch 6/15\n",
            "255/254 [==============================] - 206s 807ms/step - loss: 2.9901 - acc: 0.2500 - val_loss: 3.1352 - val_acc: 0.2441\n",
            "\n",
            "Epoch 00006: val_acc improved from 0.23654 to 0.24412, saving model to pretrained_vgg19_196_15_laioffer.h5\n",
            "Epoch 7/15\n",
            "255/254 [==============================] - 205s 804ms/step - loss: 2.7763 - acc: 0.2975 - val_loss: 2.9447 - val_acc: 0.2783\n",
            "\n",
            "Epoch 00007: val_acc improved from 0.24412 to 0.27832, saving model to pretrained_vgg19_196_15_laioffer.h5\n",
            "Epoch 8/15\n",
            "255/254 [==============================] - 205s 804ms/step - loss: 2.5810 - acc: 0.3387 - val_loss: 2.9632 - val_acc: 0.2833\n",
            "\n",
            "Epoch 00008: val_acc improved from 0.27832 to 0.28330, saving model to pretrained_vgg19_196_15_laioffer.h5\n",
            "Epoch 9/15\n",
            "255/254 [==============================] - 207s 814ms/step - loss: 2.4355 - acc: 0.3619 - val_loss: 2.8693 - val_acc: 0.2966\n",
            "\n",
            "Epoch 00009: val_acc improved from 0.28330 to 0.29660, saving model to pretrained_vgg19_196_15_laioffer.h5\n",
            "Epoch 10/15\n",
            "255/254 [==============================] - 205s 804ms/step - loss: 2.2831 - acc: 0.3918 - val_loss: 2.8962 - val_acc: 0.3083\n",
            "\n",
            "Epoch 00010: val_acc improved from 0.29660 to 0.30829, saving model to pretrained_vgg19_196_15_laioffer.h5\n",
            "Epoch 11/15\n",
            "255/254 [==============================] - 205s 804ms/step - loss: 2.1549 - acc: 0.4191 - val_loss: 2.8221 - val_acc: 0.3168\n",
            "\n",
            "Epoch 00011: val_acc improved from 0.30829 to 0.31675, saving model to pretrained_vgg19_196_15_laioffer.h5\n",
            "Epoch 12/15\n",
            "255/254 [==============================] - 206s 806ms/step - loss: 2.0142 - acc: 0.4479 - val_loss: 2.8650 - val_acc: 0.3145\n",
            "\n",
            "Epoch 00012: val_acc did not improve from 0.31675\n",
            "Epoch 13/15\n",
            "255/254 [==============================] - 205s 805ms/step - loss: 1.9054 - acc: 0.4788 - val_loss: 2.8509 - val_acc: 0.3283\n",
            "\n",
            "Epoch 00013: val_acc improved from 0.31675 to 0.32832, saving model to pretrained_vgg19_196_15_laioffer.h5\n",
            "Epoch 14/15\n",
            "255/254 [==============================] - 206s 806ms/step - loss: 1.8311 - acc: 0.4881 - val_loss: 2.8835 - val_acc: 0.3219\n",
            "\n",
            "Epoch 00014: val_acc did not improve from 0.32832\n",
            "Epoch 15/15\n",
            "255/254 [==============================] - 205s 805ms/step - loss: 1.7296 - acc: 0.5126 - val_loss: 2.9102 - val_acc: 0.3272\n",
            "\n",
            "Epoch 00015: val_acc did not improve from 0.32832\n",
            "Epoch 1/30\n",
            "255/254 [==============================] - 209s 820ms/step - loss: 1.5006 - acc: 0.5717 - val_loss: 2.8081 - val_acc: 0.3548\n",
            "\n",
            "Epoch 00001: val_acc improved from -inf to 0.35481, saving model to finetuned_vgg19_196_30_laioffer.h5\n",
            "Epoch 2/30\n",
            "255/254 [==============================] - 207s 810ms/step - loss: 1.3598 - acc: 0.6078 - val_loss: 2.8648 - val_acc: 0.3549\n",
            "\n",
            "Epoch 00002: val_acc improved from 0.35481 to 0.35493, saving model to finetuned_vgg19_196_30_laioffer.h5\n",
            "Epoch 3/30\n",
            "255/254 [==============================] - 207s 814ms/step - loss: 1.2524 - acc: 0.6333 - val_loss: 2.7592 - val_acc: 0.3774\n",
            "\n",
            "Epoch 00003: val_acc improved from 0.35493 to 0.37744, saving model to finetuned_vgg19_196_30_laioffer.h5\n",
            "Epoch 4/30\n",
            "255/254 [==============================] - 206s 806ms/step - loss: 1.2226 - acc: 0.6377 - val_loss: 2.7287 - val_acc: 0.3848\n",
            "\n",
            "Epoch 00004: val_acc improved from 0.37744 to 0.38478, saving model to finetuned_vgg19_196_30_laioffer.h5\n",
            "Epoch 5/30\n",
            "255/254 [==============================] - 207s 811ms/step - loss: 1.1615 - acc: 0.6578 - val_loss: 2.7740 - val_acc: 0.3819\n",
            "\n",
            "Epoch 00005: val_acc did not improve from 0.38478\n",
            "Epoch 6/30\n",
            "255/254 [==============================] - 208s 815ms/step - loss: 1.0762 - acc: 0.6787 - val_loss: 2.7008 - val_acc: 0.3950\n",
            "\n",
            "Epoch 00006: val_acc improved from 0.38478 to 0.39498, saving model to finetuned_vgg19_196_30_laioffer.h5\n",
            "Epoch 7/30\n",
            "255/254 [==============================] - 208s 815ms/step - loss: 1.0424 - acc: 0.6852 - val_loss: 2.7058 - val_acc: 0.3978\n",
            "\n",
            "Epoch 00007: val_acc improved from 0.39498 to 0.39784, saving model to finetuned_vgg19_196_30_laioffer.h5\n",
            "Epoch 8/30\n",
            "255/254 [==============================] - 209s 819ms/step - loss: 1.0153 - acc: 0.6892 - val_loss: 2.6432 - val_acc: 0.4049\n",
            "\n",
            "Epoch 00008: val_acc improved from 0.39784 to 0.40492, saving model to finetuned_vgg19_196_30_laioffer.h5\n",
            "Epoch 9/30\n",
            "255/254 [==============================] - 207s 813ms/step - loss: 0.9860 - acc: 0.7011 - val_loss: 2.6799 - val_acc: 0.4072\n",
            "\n",
            "Epoch 00009: val_acc improved from 0.40492 to 0.40716, saving model to finetuned_vgg19_196_30_laioffer.h5\n",
            "Epoch 10/30\n",
            "255/254 [==============================] - 211s 825ms/step - loss: 0.9188 - acc: 0.7206 - val_loss: 2.6470 - val_acc: 0.4174\n",
            "\n",
            "Epoch 00010: val_acc improved from 0.40716 to 0.41736, saving model to finetuned_vgg19_196_30_laioffer.h5\n",
            "Epoch 11/30\n",
            "255/254 [==============================] - 209s 819ms/step - loss: 0.9142 - acc: 0.7289 - val_loss: 2.6209 - val_acc: 0.4141\n",
            "\n",
            "Epoch 00011: val_acc did not improve from 0.41736\n",
            "Epoch 12/30\n",
            "255/254 [==============================] - 211s 828ms/step - loss: 0.8939 - acc: 0.7301 - val_loss: 2.6486 - val_acc: 0.4131\n",
            "\n",
            "Epoch 00012: val_acc did not improve from 0.41736\n",
            "Epoch 13/30\n",
            "255/254 [==============================] - 211s 827ms/step - loss: 0.8400 - acc: 0.7429 - val_loss: 2.6196 - val_acc: 0.4231\n",
            "\n",
            "Epoch 00013: val_acc improved from 0.41736 to 0.42308, saving model to finetuned_vgg19_196_30_laioffer.h5\n",
            "Epoch 14/30\n",
            "255/254 [==============================] - 212s 830ms/step - loss: 0.8125 - acc: 0.7517 - val_loss: 2.6886 - val_acc: 0.4093\n",
            "\n",
            "Epoch 00014: val_acc did not improve from 0.42308\n",
            "Epoch 15/30\n",
            "255/254 [==============================] - 212s 830ms/step - loss: 0.8005 - acc: 0.7569 - val_loss: 2.5745 - val_acc: 0.4264\n",
            "\n",
            "Epoch 00015: val_acc improved from 0.42308 to 0.42644, saving model to finetuned_vgg19_196_30_laioffer.h5\n",
            "Epoch 16/30\n",
            "255/254 [==============================] - 211s 826ms/step - loss: 0.7744 - acc: 0.7574 - val_loss: 2.6380 - val_acc: 0.4235\n",
            "\n",
            "Epoch 00016: val_acc did not improve from 0.42644\n",
            "Epoch 17/30\n",
            "255/254 [==============================] - 210s 825ms/step - loss: 0.7565 - acc: 0.7696 - val_loss: 2.5920 - val_acc: 0.4295\n",
            "\n",
            "Epoch 00017: val_acc improved from 0.42644 to 0.42955, saving model to finetuned_vgg19_196_30_laioffer.h5\n",
            "Epoch 18/30\n",
            "255/254 [==============================] - 209s 820ms/step - loss: 0.7132 - acc: 0.7821 - val_loss: 2.5951 - val_acc: 0.4303\n",
            "\n",
            "Epoch 00018: val_acc improved from 0.42955 to 0.43029, saving model to finetuned_vgg19_196_30_laioffer.h5\n",
            "Epoch 19/30\n",
            "255/254 [==============================] - 211s 827ms/step - loss: 0.6976 - acc: 0.7862 - val_loss: 2.6417 - val_acc: 0.4300\n",
            "\n",
            "Epoch 00019: val_acc did not improve from 0.43029\n",
            "Epoch 20/30\n",
            "255/254 [==============================] - 210s 824ms/step - loss: 0.6843 - acc: 0.7858 - val_loss: 2.6287 - val_acc: 0.4294\n",
            "\n",
            "Epoch 00020: val_acc did not improve from 0.43029\n",
            "Epoch 21/30\n",
            "255/254 [==============================] - 212s 830ms/step - loss: 0.6716 - acc: 0.7951 - val_loss: 2.6477 - val_acc: 0.4283\n",
            "\n",
            "Epoch 00021: val_acc did not improve from 0.43029\n",
            "Epoch 22/30\n",
            "255/254 [==============================] - 212s 833ms/step - loss: 0.6468 - acc: 0.7991 - val_loss: 2.6193 - val_acc: 0.4308\n",
            "\n",
            "Epoch 00022: val_acc improved from 0.43029 to 0.43079, saving model to finetuned_vgg19_196_30_laioffer.h5\n",
            "Epoch 23/30\n",
            "255/254 [==============================] - 209s 822ms/step - loss: 0.6362 - acc: 0.8015 - val_loss: 2.6291 - val_acc: 0.4345\n",
            "\n",
            "Epoch 00023: val_acc improved from 0.43079 to 0.43452, saving model to finetuned_vgg19_196_30_laioffer.h5\n",
            "Epoch 24/30\n",
            "255/254 [==============================] - 211s 828ms/step - loss: 0.6326 - acc: 0.8044 - val_loss: 2.6287 - val_acc: 0.4388\n",
            "\n",
            "Epoch 00024: val_acc improved from 0.43452 to 0.43875, saving model to finetuned_vgg19_196_30_laioffer.h5\n",
            "Epoch 25/30\n",
            "255/254 [==============================] - 209s 819ms/step - loss: 0.6047 - acc: 0.8099 - val_loss: 2.5873 - val_acc: 0.4440\n",
            "\n",
            "Epoch 00025: val_acc improved from 0.43875 to 0.44397, saving model to finetuned_vgg19_196_30_laioffer.h5\n",
            "Epoch 26/30\n",
            "255/254 [==============================] - 209s 821ms/step - loss: 0.5800 - acc: 0.8178 - val_loss: 2.5753 - val_acc: 0.4390\n",
            "\n",
            "Epoch 00026: val_acc did not improve from 0.44397\n",
            "Epoch 27/30\n",
            "255/254 [==============================] - 209s 820ms/step - loss: 0.5582 - acc: 0.8290 - val_loss: 2.5913 - val_acc: 0.4485\n",
            "\n",
            "Epoch 00027: val_acc improved from 0.44397 to 0.44845, saving model to finetuned_vgg19_196_30_laioffer.h5\n",
            "Epoch 28/30\n",
            "255/254 [==============================] - 210s 824ms/step - loss: 0.5549 - acc: 0.8298 - val_loss: 2.6214 - val_acc: 0.4439\n",
            "\n",
            "Epoch 00028: val_acc did not improve from 0.44845\n",
            "Epoch 29/30\n",
            "255/254 [==============================] - 209s 821ms/step - loss: 0.5600 - acc: 0.8249 - val_loss: 2.6436 - val_acc: 0.4422\n",
            "\n",
            "Epoch 00029: val_acc did not improve from 0.44845\n",
            "Epoch 30/30\n",
            "255/254 [==============================] - 210s 825ms/step - loss: 0.5354 - acc: 0.8333 - val_loss: 2.5720 - val_acc: 0.4508\n",
            "\n",
            "Epoch 00030: val_acc improved from 0.44845 to 0.45081, saving model to finetuned_vgg19_196_30_laioffer.h5\n"
          ],
          "name": "stdout"
        }
      ]
    },
    {
      "cell_type": "markdown",
      "metadata": {
        "id": "l0uHDz3RU4hL",
        "colab_type": "text"
      },
      "source": [
        "## 4.2 Results"
      ]
    },
    {
      "cell_type": "markdown",
      "metadata": {
        "id": "BVgX3x9OU_Cx",
        "colab_type": "text"
      },
      "source": [
        "### 4.2.1 Accuracy"
      ]
    },
    {
      "cell_type": "code",
      "metadata": {
        "id": "EUB8kGALi6BA",
        "colab_type": "code",
        "outputId": "4ed53fc2-1680-4455-ac2b-99c391e3e5c5",
        "colab": {
          "base_uri": "https://localhost:8080/",
          "height": 52
        }
      },
      "source": [
        "scores = model.evaluate_generator(validation_generator, verbose=1, steps=len(validation_generator))\n",
        "print(\"Validation accuracy = \", scores[1])"
      ],
      "execution_count": 0,
      "outputs": [
        {
          "output_type": "stream",
          "text": [
            "252/252 [==============================] - 111s 441ms/step\n",
            "Validation accuracy =  0.4513120258896672\n"
          ],
          "name": "stdout"
        }
      ]
    },
    {
      "cell_type": "markdown",
      "metadata": {
        "id": "AxZag8jYVCs-",
        "colab_type": "text"
      },
      "source": [
        "### 4.2.2 Classification report"
      ]
    },
    {
      "cell_type": "code",
      "metadata": {
        "id": "2z7cWMXkXCxX",
        "colab_type": "code",
        "outputId": "b129da09-3bf4-4dfd-cce2-45a3fe8dcb45",
        "colab": {
          "base_uri": "https://localhost:8080/",
          "height": 52
        }
      },
      "source": [
        "import numpy as np\n",
        "# predicted_label_probs = model.predict_generator(validation_generator, verbose=1)\n",
        "# predicted_labels = np.argmax(predicted_label_probs, axis=1)\n",
        "\n",
        "from sklearn.metrics import confusion_matrix, classification_report, accuracy_score\n",
        "\n",
        "test_datagen = image.ImageDataGenerator(\n",
        "    preprocessing_function=vgg19.preprocess_input # preprocess_input\n",
        "    )\n",
        "\n",
        "test_generator = test_datagen.flow_from_directory(\n",
        "    \"car_dataset/test\",\n",
        "    target_size=(224, 224),\n",
        "    batch_size=1,\n",
        "    shuffle=False,    # keep data in same order as labels\n",
        "    class_mode='categorical')# only data, no labels\n",
        "\n",
        "true_labels = test_generator.classes\n",
        "\n",
        "predicted_label_probs = model.predict_generator(test_generator, verbose=1,steps=len(test_generator))\n",
        "predicted_labels = np.argmax(predicted_label_probs, axis=1)\n",
        "# predicted_labels "
      ],
      "execution_count": 0,
      "outputs": [
        {
          "output_type": "stream",
          "text": [
            "Found 8041 images belonging to 196 classes.\n",
            "8041/8041 [==============================] - 247s 31ms/step\n"
          ],
          "name": "stdout"
        }
      ]
    },
    {
      "cell_type": "code",
      "metadata": {
        "id": "H09JCU4mmtaQ",
        "colab_type": "code",
        "colab": {}
      },
      "source": [
        "label_map = (test_generator.class_indices)\n",
        "# label_map"
      ],
      "execution_count": 0,
      "outputs": []
    },
    {
      "cell_type": "code",
      "metadata": {
        "id": "hN4lazy-XO8N",
        "colab_type": "code",
        "outputId": "75257535-d6f2-4fad-fedb-46af7f4fed90",
        "colab": {
          "base_uri": "https://localhost:8080/",
          "height": 1000
        }
      },
      "source": [
        "# print(confusion_matrix(true_labels, predicted_labels))\n",
        "print(classification_report(true_labels, predicted_labels))\n",
        "# print(\"Accuracy = \", accuracy_score(true_labels, predicted_labels))"
      ],
      "execution_count": 0,
      "outputs": [
        {
          "output_type": "stream",
          "text": [
            "              precision    recall  f1-score   support\n",
            "\n",
            "           0       0.83      0.91      0.87        44\n",
            "           1       0.18      0.06      0.09        33\n",
            "           2       0.58      0.45      0.51        33\n",
            "           3       0.38      0.57      0.46        42\n",
            "           4       0.68      0.72      0.70        39\n",
            "           5       0.68      0.49      0.57        39\n",
            "           6       0.44      0.52      0.48        42\n",
            "           7       0.46      0.37      0.41        43\n",
            "           8       0.82      0.68      0.75        41\n",
            "           9       0.56      0.43      0.49        44\n",
            "          10       0.57      0.75      0.65        44\n",
            "          11       0.51      0.41      0.46        44\n",
            "          12       0.55      0.71      0.62        38\n",
            "          13       0.41      0.37      0.39        43\n",
            "          14       0.37      0.60      0.45        42\n",
            "          15       0.39      0.42      0.40        45\n",
            "          16       0.50      0.57      0.53        42\n",
            "          17       0.57      0.36      0.44        45\n",
            "          18       0.31      0.44      0.37        45\n",
            "          19       0.68      0.81      0.74        37\n",
            "          20       0.34      0.31      0.33        42\n",
            "          21       0.67      0.63      0.65        41\n",
            "          22       0.49      0.69      0.57        68\n",
            "          23       0.59      0.47      0.52        36\n",
            "          24       0.61      0.45      0.52        42\n",
            "          25       0.56      0.41      0.47        44\n",
            "          26       0.22      0.17      0.19        40\n",
            "          27       0.68      0.82      0.74        44\n",
            "          28       0.45      0.44      0.44        39\n",
            "          29       0.58      0.58      0.58        43\n",
            "          30       0.76      0.38      0.51        42\n",
            "          31       0.62      0.44      0.51        41\n",
            "          32       0.39      0.38      0.39        39\n",
            "          33       0.27      0.24      0.25        38\n",
            "          34       0.42      0.37      0.39        41\n",
            "          35       0.44      0.63      0.52        41\n",
            "          36       0.64      0.67      0.65        42\n",
            "          37       0.45      0.65      0.53        43\n",
            "          38       0.30      0.19      0.23        42\n",
            "          39       0.50      0.24      0.33        33\n",
            "          40       0.39      0.55      0.46        42\n",
            "          41       0.16      0.21      0.18        24\n",
            "          42       0.47      0.42      0.44        43\n",
            "          43       0.54      0.49      0.51        39\n",
            "          44       0.32      0.36      0.34        42\n",
            "          45       0.31      0.26      0.29        42\n",
            "          46       0.41      0.43      0.42        42\n",
            "          47       0.60      0.35      0.44        34\n",
            "          48       0.80      0.62      0.70        32\n",
            "          49       0.62      0.53      0.57        40\n",
            "          50       0.35      0.43      0.39        46\n",
            "          51       0.54      0.50      0.52        44\n",
            "          52       0.54      0.88      0.67        43\n",
            "          53       0.67      0.36      0.47        44\n",
            "          54       0.41      0.33      0.37        45\n",
            "          55       0.42      0.64      0.50        42\n",
            "          56       0.40      0.33      0.36        43\n",
            "          57       0.84      0.58      0.69        36\n",
            "          58       0.57      0.53      0.55        43\n",
            "          59       0.77      0.66      0.71        35\n",
            "          60       0.59      0.50      0.54        44\n",
            "          61       0.75      0.71      0.73        42\n",
            "          62       0.51      0.48      0.49        42\n",
            "          63       0.55      0.41      0.47        39\n",
            "          64       0.80      0.78      0.79        36\n",
            "          65       0.58      0.38      0.46        29\n",
            "          66       0.43      0.61      0.51        36\n",
            "          67       0.32      0.28      0.30        43\n",
            "          68       0.54      0.73      0.62        44\n",
            "          69       0.47      0.60      0.53        48\n",
            "          70       0.38      0.38      0.38        45\n",
            "          71       0.45      0.36      0.40        36\n",
            "          72       0.29      0.23      0.26        43\n",
            "          73       0.43      0.70      0.53        44\n",
            "          74       0.58      0.78      0.67        41\n",
            "          75       0.17      0.15      0.16        47\n",
            "          76       0.68      0.50      0.58        42\n",
            "          77       0.84      0.55      0.67        38\n",
            "          78       0.44      0.60      0.51        40\n",
            "          79       0.35      0.43      0.38        44\n",
            "          80       0.41      0.57      0.47        46\n",
            "          81       0.53      0.55      0.54        44\n",
            "          82       0.27      0.23      0.25        43\n",
            "          83       0.50      0.49      0.49        41\n",
            "          84       0.63      0.63      0.63        30\n",
            "          85       0.62      0.53      0.57        38\n",
            "          86       0.60      0.59      0.60        44\n",
            "          87       0.33      0.34      0.33        41\n",
            "          88       0.45      0.40      0.42        45\n",
            "          89       0.53      0.40      0.46        42\n",
            "          90       0.33      0.31      0.32        42\n",
            "          91       0.36      0.34      0.35        38\n",
            "          92       0.19      0.26      0.22        46\n",
            "          93       0.24      0.40      0.30        42\n",
            "          94       0.19      0.17      0.18        40\n",
            "          95       0.41      0.34      0.37        38\n",
            "          96       0.50      0.39      0.44        38\n",
            "          97       0.41      0.47      0.43        43\n",
            "          98       0.18      0.21      0.19        43\n",
            "          99       0.67      0.45      0.54        40\n",
            "         100       0.28      0.28      0.28        40\n",
            "         101       0.29      0.35      0.32        43\n",
            "         102       0.55      0.70      0.62        46\n",
            "         103       0.62      0.67      0.64        42\n",
            "         104       0.45      0.44      0.44        41\n",
            "         105       0.74      0.76      0.75        45\n",
            "         106       0.56      0.47      0.51        43\n",
            "         107       0.80      0.80      0.80        40\n",
            "         108       0.08      0.03      0.04        32\n",
            "         109       0.39      0.48      0.43        46\n",
            "         110       0.46      0.55      0.50        42\n",
            "         111       0.18      0.14      0.16        42\n",
            "         112       0.23      0.28      0.26        39\n",
            "         113       0.23      0.20      0.21        45\n",
            "         114       0.50      0.28      0.36        39\n",
            "         115       0.56      0.53      0.55        34\n",
            "         116       0.53      0.54      0.54        35\n",
            "         117       0.41      0.41      0.41        41\n",
            "         118       0.20      0.26      0.22        42\n",
            "         119       0.35      0.16      0.22        43\n",
            "         120       0.44      0.29      0.35        41\n",
            "         121       0.32      0.32      0.32        44\n",
            "         122       0.43      0.46      0.45        41\n",
            "         123       0.39      0.52      0.45        42\n",
            "         124       0.25      0.41      0.31        44\n",
            "         125       0.15      0.07      0.10        41\n",
            "         126       0.34      0.32      0.33        41\n",
            "         127       0.43      0.53      0.48        38\n",
            "         128       0.30      0.33      0.31        40\n",
            "         129       0.35      0.44      0.39        36\n",
            "         130       0.38      0.33      0.35        42\n",
            "         131       0.64      0.59      0.61        39\n",
            "         132       0.58      0.54      0.56        35\n",
            "         133       0.41      0.38      0.39        34\n",
            "         134       0.37      0.24      0.29        46\n",
            "         135       0.45      0.39      0.41        44\n",
            "         136       0.44      0.38      0.41        32\n",
            "         137       0.52      0.56      0.54        43\n",
            "         138       0.39      0.34      0.36        35\n",
            "         139       0.45      0.48      0.47        42\n",
            "         140       0.67      0.43      0.52        37\n",
            "         141       0.36      0.25      0.29        40\n",
            "         142       0.56      0.45      0.50        42\n",
            "         143       0.34      0.44      0.38        43\n",
            "         144       0.75      0.51      0.61        41\n",
            "         145       0.52      0.39      0.44        44\n",
            "         146       0.38      0.35      0.36        40\n",
            "         147       0.30      0.18      0.23        39\n",
            "         148       0.35      0.41      0.38        46\n",
            "         149       0.56      0.49      0.52        37\n",
            "         150       0.37      0.43      0.40        44\n",
            "         151       0.49      0.50      0.49        44\n",
            "         152       0.38      0.50      0.43        44\n",
            "         153       0.76      0.78      0.77        36\n",
            "         154       0.31      0.30      0.31        43\n",
            "         155       0.29      0.30      0.29        37\n",
            "         156       0.24      0.39      0.30        44\n",
            "         157       0.29      0.28      0.28        29\n",
            "         158       0.27      0.36      0.30        45\n",
            "         159       0.38      0.24      0.30        41\n",
            "         160       0.35      0.29      0.32        38\n",
            "         161       0.64      0.45      0.53        40\n",
            "         162       0.34      0.63      0.44        38\n",
            "         163       0.33      0.33      0.33        39\n",
            "         164       0.56      0.57      0.56        42\n",
            "         165       0.30      0.26      0.28        35\n",
            "         166       0.33      0.27      0.30        45\n",
            "         167       0.22      0.18      0.20        44\n",
            "         168       0.35      0.44      0.39        43\n",
            "         169       0.35      0.20      0.26        44\n",
            "         170       0.35      0.51      0.42        43\n",
            "         171       0.38      0.40      0.39        40\n",
            "         172       0.61      0.51      0.56        37\n",
            "         173       0.42      0.40      0.41        48\n",
            "         174       0.33      0.47      0.39        45\n",
            "         175       0.79      0.63      0.70        43\n",
            "         176       0.82      0.69      0.75        45\n",
            "         177       0.37      0.58      0.45        45\n",
            "         178       0.34      0.35      0.35        40\n",
            "         179       0.49      0.52      0.51        42\n",
            "         180       0.71      0.74      0.73        43\n",
            "         181       0.48      0.48      0.48        42\n",
            "         182       0.39      0.39      0.39        44\n",
            "         183       0.68      0.64      0.66        39\n",
            "         184       0.77      0.55      0.64        44\n",
            "         185       0.30      0.39      0.34        41\n",
            "         186       0.54      0.49      0.51        41\n",
            "         187       0.32      0.55      0.40        38\n",
            "         188       0.68      0.38      0.48        40\n",
            "         189       0.73      0.41      0.52        39\n",
            "         190       0.41      0.33      0.36        43\n",
            "         191       0.38      0.42      0.40        45\n",
            "         192       0.36      0.39      0.37        41\n",
            "         193       0.33      0.45      0.38        42\n",
            "         194       0.41      0.37      0.39        46\n",
            "         195       0.81      0.63      0.71        27\n",
            "\n",
            "    accuracy                           0.45      8041\n",
            "   macro avg       0.46      0.45      0.45      8041\n",
            "weighted avg       0.46      0.45      0.45      8041\n",
            "\n"
          ],
          "name": "stdout"
        }
      ]
    },
    {
      "cell_type": "markdown",
      "metadata": {
        "id": "WhtfZiYjVK3B",
        "colab_type": "text"
      },
      "source": [
        "### 4.2.3 Visualize confusion matrix"
      ]
    },
    {
      "cell_type": "code",
      "metadata": {
        "id": "EhGxyv1r-mab",
        "colab_type": "code",
        "colab": {}
      },
      "source": [
        "import matplotlib.pyplot as plt\n",
        "import itertools\n",
        "\n",
        "def plot_confusion_matrix(cm, classes,\n",
        "                          normalize=False,\n",
        "                          title='Confusion matrix',\n",
        "                          cmap=plt.cm.Blues):\n",
        "    \"\"\"\n",
        "    This function prints and plots the confusion matrix.\n",
        "    Normalization can be applied by setting `normalize=True`.\n",
        "    \"\"\"\n",
        "    if normalize:\n",
        "        cm = cm.astype('float') / cm.sum(axis=1)[:, np.newaxis]\n",
        "        print(\"Normalized confusion matrix\")\n",
        "    else:\n",
        "        print('Confusion matrix, without normalization')\n",
        "\n",
        "    print(cm)\n",
        "\n",
        "    plt.imshow(cm, interpolation='nearest', cmap=cmap)\n",
        "    plt.title(title)\n",
        "    plt.colorbar()\n",
        "    tick_marks = np.arange(len(classes))\n",
        "    plt.xticks(tick_marks, classes, rotation=45)\n",
        "    plt.yticks(tick_marks, classes)\n",
        "\n",
        "    fmt = '.2f' if normalize else 'd'\n",
        "    thresh = cm.max() / 2.\n",
        "    for i, j in itertools.product(range(cm.shape[0]), range(cm.shape[1])):\n",
        "        plt.text(j, i, format(cm[i, j], fmt),\n",
        "                 horizontalalignment=\"center\",\n",
        "                 color=\"white\" if cm[i, j] > thresh else \"black\")\n",
        "\n",
        "    plt.ylabel('True label')\n",
        "    plt.xlabel('Predicted label')\n",
        "    plt.tight_layout()"
      ],
      "execution_count": 0,
      "outputs": []
    },
    {
      "cell_type": "code",
      "metadata": {
        "id": "Ar4Srlj2-ndE",
        "colab_type": "code",
        "outputId": "9fb17190-adae-4b31-c2ca-83f25c8a2424",
        "colab": {
          "base_uri": "https://localhost:8080/",
          "height": 661
        }
      },
      "source": [
        "cnf_matrix = confusion_matrix(true_labels, predicted_labels)\n",
        "# Plot non-normalized confusion matrix\n",
        "# plt.figure()\n",
        "# plot_confusion_matrix(cnf_matrix, classes=list(label_map.keys()),\n",
        "#                       title='Confusion matrix, without normalization')\n",
        "\n",
        "# Plot normalized confusion matrix\n",
        "plt.figure()\n",
        "plot_confusion_matrix(cnf_matrix[:10,:10], classes=list(label_map.keys())[:10], normalize=True,\n",
        "                      title='Normalized confusion matrix')\n",
        "\n",
        "plt.show()"
      ],
      "execution_count": 0,
      "outputs": [
        {
          "output_type": "stream",
          "text": [
            "Normalized confusion matrix\n",
            "[[1.         0.         0.         0.         0.         0.\n",
            "  0.         0.         0.         0.        ]\n",
            " [0.         1.         0.         0.         0.         0.\n",
            "  0.         0.         0.         0.        ]\n",
            " [0.         0.         1.         0.         0.         0.\n",
            "  0.         0.         0.         0.        ]\n",
            " [0.         0.         0.         0.85714286 0.03571429 0.\n",
            "  0.10714286 0.         0.         0.        ]\n",
            " [0.         0.         0.         0.06060606 0.84848485 0.\n",
            "  0.09090909 0.         0.         0.        ]\n",
            " [0.         0.         0.         0.         0.16666667 0.63333333\n",
            "  0.2        0.         0.         0.        ]\n",
            " [0.         0.         0.         0.04       0.         0.08\n",
            "  0.88       0.         0.         0.        ]\n",
            " [0.         0.05882353 0.         0.         0.         0.\n",
            "  0.         0.94117647 0.         0.        ]\n",
            " [0.         0.         0.         0.         0.         0.\n",
            "  0.         0.         1.         0.        ]\n",
            " [0.         0.         0.         0.         0.         0.\n",
            "  0.         0.         0.         1.        ]]\n"
          ],
          "name": "stdout"
        },
        {
          "output_type": "display_data",
          "data": {
            "image/png": "[encoded data removed]",
            "text/plain": [
              "<Figure size 432x288 with 2 Axes>"
            ]
          },
          "metadata": {
            "tags": []
          }
        }
      ]
    },
    {
      "cell_type": "markdown",
      "metadata": {
        "id": "xAp1JtpS-7cT",
        "colab_type": "text"
      },
      "source": [
        "### 4.2.4 Visualize training history"
      ]
    },
    {
      "cell_type": "code",
      "metadata": {
        "id": "57aWJ0xkCofu",
        "colab_type": "code",
        "colab": {}
      },
      "source": [
        "def plot_history(history):\n",
        "    loss_list = [s for s in history.history.keys() if 'loss' in s and 'val' not in s]\n",
        "    val_loss_list = [s for s in history.history.keys() if 'loss' in s and 'val' in s]\n",
        "    acc_list = [s for s in history.history.keys() if 'acc' in s and 'val' not in s]\n",
        "    val_acc_list = [s for s in history.history.keys() if 'acc' in s and 'val' in s]\n",
        "    \n",
        "    if len(loss_list) == 0:\n",
        "        print('Loss is missing in history')\n",
        "        return \n",
        "    \n",
        "    ## As loss always exists\n",
        "    epochs = range(1,len(history.history[loss_list[0]]) + 1)\n",
        "    \n",
        "    ## Loss\n",
        "    plt.figure(1)\n",
        "    for l in loss_list:\n",
        "        plt.plot(epochs, history.history[l], 'b', label='Training loss (' + str(str(format(history.history[l][-1],'.5f'))+')'))\n",
        "    for l in val_loss_list:\n",
        "        plt.plot(epochs, history.history[l], 'g', label='Validation loss (' + str(str(format(history.history[l][-1],'.5f'))+')'))\n",
        "    \n",
        "    plt.title('Loss')\n",
        "    plt.xlabel('Epochs')\n",
        "    plt.ylabel('Loss')\n",
        "    plt.legend()\n",
        "    \n",
        "    ## Accuracy\n",
        "    plt.figure(2)\n",
        "    for l in acc_list:\n",
        "        plt.plot(epochs, history.history[l], 'b', label='Training accuracy (' + str(format(history.history[l][-1],'.5f'))+')')\n",
        "    for l in val_acc_list:    \n",
        "        plt.plot(epochs, history.history[l], 'g', label='Validation accuracy (' + str(format(history.history[l][-1],'.5f'))+')')\n",
        "\n",
        "    plt.title('Accuracy')\n",
        "    plt.xlabel('Epochs')\n",
        "    plt.ylabel('Accuracy')\n",
        "    plt.legend()\n",
        "    plt.show()"
      ],
      "execution_count": 0,
      "outputs": []
    },
    {
      "cell_type": "code",
      "metadata": {
        "id": "4Ut9-hyVqL8S",
        "colab_type": "code",
        "outputId": "5d9e8d7b-2455-4a16-e3d1-9b96cff13278",
        "colab": {
          "base_uri": "https://localhost:8080/",
          "height": 573
        }
      },
      "source": [
        "plot_history(history)"
      ],
      "execution_count": 0,
      "outputs": [
        {
          "output_type": "display_data",
          "data": {
            "image/png": "[encoded data removed]",
            "text/plain": [
              "<Figure size 432x288 with 1 Axes>"
            ]
          },
          "metadata": {
            "tags": []
          }
        },
        {
          "output_type": "display_data",
          "data": {
            "image/png": "[encoded data removed]",
            "text/plain": [
              "<Figure size 432x288 with 1 Axes>"
            ]
          },
          "metadata": {
            "tags": []
          }
        }
      ]
    },
    {
      "cell_type": "code",
      "metadata": {
        "id": "IW71-SVwCLKI",
        "colab_type": "code",
        "colab": {}
      },
      "source": [
        "# from sklearn.metrics import recall_score, classification_report, auc, roc_curve\n",
        "# cm = confusion_matrix(true_labels, predicted_labels)\n",
        "# print(cm)\n",
        "\n",
        "\n",
        "# plt.plot(history.history['acc'])\n",
        "# plt.plot(history.history['val_acc'])\n",
        "# plt.title('Model accuracy')\n",
        "# plt.ylabel('Accuracy')\n",
        "# plt.xlabel('Epoch')\n",
        "# plt.legend(['Train', 'Test'], loc='upper left')\n",
        "# plt.show()"
      ],
      "execution_count": 0,
      "outputs": []
    },
    {
      "cell_type": "code",
      "metadata": {
        "id": "FJUTP4WzFExR",
        "colab_type": "code",
        "colab": {}
      },
      "source": [
        "# predicted_labels"
      ],
      "execution_count": 0,
      "outputs": []
    },
    {
      "cell_type": "markdown",
      "metadata": {
        "id": "cAaA7xwXVT_S",
        "colab_type": "text"
      },
      "source": [
        "### 4.2.5 Save model"
      ]
    },
    {
      "cell_type": "code",
      "metadata": {
        "id": "jsdd0tOfZX7X",
        "colab_type": "code",
        "colab": {}
      },
      "source": [
        "model.save(\"model.h5\")"
      ],
      "execution_count": 0,
      "outputs": []
    },
    {
      "cell_type": "markdown",
      "metadata": {
        "id": "oZ1V3wTWVXz1",
        "colab_type": "text"
      },
      "source": [
        "### 4.2.6 Load model"
      ]
    },
    {
      "cell_type": "code",
      "metadata": {
        "id": "Wv2bP9CPflz1",
        "colab_type": "code",
        "colab": {}
      },
      "source": [
        "from keras.models import load_model\n",
        "new_model = load_model(\"model.h5\")"
      ],
      "execution_count": 0,
      "outputs": []
    },
    {
      "cell_type": "code",
      "metadata": {
        "id": "ItR6f9WFft7t",
        "colab_type": "code",
        "outputId": "4d49eae6-65fe-4873-bc9c-3fb4b90c9e08",
        "colab": {
          "base_uri": "https://localhost:8080/",
          "height": 35
        }
      },
      "source": [
        "new_predicted_label_probs = new_model.predict_generator(test_generator, verbose=1,steps=len(test_generator))\n",
        "new_predicted_labels = np.argmax(new_predicted_label_probs, axis=1)"
      ],
      "execution_count": 0,
      "outputs": [
        {
          "output_type": "stream",
          "text": [
            "8041/8041 [==============================] - 247s 31ms/step\n"
          ],
          "name": "stdout"
        }
      ]
    },
    {
      "cell_type": "code",
      "metadata": {
        "id": "9XsK2BZCf_77",
        "colab_type": "code",
        "outputId": "8cbf4048-c594-4642-cb51-b1f40c97412a",
        "colab": {
          "base_uri": "https://localhost:8080/",
          "height": 1000
        }
      },
      "source": [
        "print(confusion_matrix(true_labels, predicted_labels))\n",
        "print(classification_report(true_labels, predicted_labels))\n",
        "print(\"Accuracy = \", accuracy_score(true_labels, predicted_labels))"
      ],
      "execution_count": 0,
      "outputs": [
        {
          "output_type": "stream",
          "text": [
            "[[40  0  0 ...  0  0  0]\n",
            " [ 0  2  0 ...  0  0  0]\n",
            " [ 0  0 15 ...  0  0  0]\n",
            " ...\n",
            " [ 0  0  0 ... 19  0  0]\n",
            " [ 0  0  0 ...  1 17  0]\n",
            " [ 0  0  0 ...  0  0 17]]\n",
            "              precision    recall  f1-score   support\n",
            "\n",
            "           0       0.83      0.91      0.87        44\n",
            "           1       0.18      0.06      0.09        33\n",
            "           2       0.58      0.45      0.51        33\n",
            "           3       0.38      0.57      0.46        42\n",
            "           4       0.68      0.72      0.70        39\n",
            "           5       0.68      0.49      0.57        39\n",
            "           6       0.44      0.52      0.48        42\n",
            "           7       0.46      0.37      0.41        43\n",
            "           8       0.82      0.68      0.75        41\n",
            "           9       0.56      0.43      0.49        44\n",
            "          10       0.57      0.75      0.65        44\n",
            "          11       0.51      0.41      0.46        44\n",
            "          12       0.55      0.71      0.62        38\n",
            "          13       0.41      0.37      0.39        43\n",
            "          14       0.37      0.60      0.45        42\n",
            "          15       0.39      0.42      0.40        45\n",
            "          16       0.50      0.57      0.53        42\n",
            "          17       0.57      0.36      0.44        45\n",
            "          18       0.31      0.44      0.37        45\n",
            "          19       0.68      0.81      0.74        37\n",
            "          20       0.34      0.31      0.33        42\n",
            "          21       0.67      0.63      0.65        41\n",
            "          22       0.49      0.69      0.57        68\n",
            "          23       0.59      0.47      0.52        36\n",
            "          24       0.61      0.45      0.52        42\n",
            "          25       0.56      0.41      0.47        44\n",
            "          26       0.22      0.17      0.19        40\n",
            "          27       0.68      0.82      0.74        44\n",
            "          28       0.45      0.44      0.44        39\n",
            "          29       0.58      0.58      0.58        43\n",
            "          30       0.76      0.38      0.51        42\n",
            "          31       0.62      0.44      0.51        41\n",
            "          32       0.39      0.38      0.39        39\n",
            "          33       0.27      0.24      0.25        38\n",
            "          34       0.42      0.37      0.39        41\n",
            "          35       0.44      0.63      0.52        41\n",
            "          36       0.64      0.67      0.65        42\n",
            "          37       0.45      0.65      0.53        43\n",
            "          38       0.30      0.19      0.23        42\n",
            "          39       0.50      0.24      0.33        33\n",
            "          40       0.39      0.55      0.46        42\n",
            "          41       0.16      0.21      0.18        24\n",
            "          42       0.47      0.42      0.44        43\n",
            "          43       0.54      0.49      0.51        39\n",
            "          44       0.32      0.36      0.34        42\n",
            "          45       0.31      0.26      0.29        42\n",
            "          46       0.41      0.43      0.42        42\n",
            "          47       0.60      0.35      0.44        34\n",
            "          48       0.80      0.62      0.70        32\n",
            "          49       0.62      0.53      0.57        40\n",
            "          50       0.35      0.43      0.39        46\n",
            "          51       0.54      0.50      0.52        44\n",
            "          52       0.54      0.88      0.67        43\n",
            "          53       0.67      0.36      0.47        44\n",
            "          54       0.41      0.33      0.37        45\n",
            "          55       0.42      0.64      0.50        42\n",
            "          56       0.40      0.33      0.36        43\n",
            "          57       0.84      0.58      0.69        36\n",
            "          58       0.57      0.53      0.55        43\n",
            "          59       0.77      0.66      0.71        35\n",
            "          60       0.59      0.50      0.54        44\n",
            "          61       0.75      0.71      0.73        42\n",
            "          62       0.51      0.48      0.49        42\n",
            "          63       0.55      0.41      0.47        39\n",
            "          64       0.80      0.78      0.79        36\n",
            "          65       0.58      0.38      0.46        29\n",
            "          66       0.43      0.61      0.51        36\n",
            "          67       0.32      0.28      0.30        43\n",
            "          68       0.54      0.73      0.62        44\n",
            "          69       0.47      0.60      0.53        48\n",
            "          70       0.38      0.38      0.38        45\n",
            "          71       0.45      0.36      0.40        36\n",
            "          72       0.29      0.23      0.26        43\n",
            "          73       0.43      0.70      0.53        44\n",
            "          74       0.58      0.78      0.67        41\n",
            "          75       0.17      0.15      0.16        47\n",
            "          76       0.68      0.50      0.58        42\n",
            "          77       0.84      0.55      0.67        38\n",
            "          78       0.44      0.60      0.51        40\n",
            "          79       0.35      0.43      0.38        44\n",
            "          80       0.41      0.57      0.47        46\n",
            "          81       0.53      0.55      0.54        44\n",
            "          82       0.27      0.23      0.25        43\n",
            "          83       0.50      0.49      0.49        41\n",
            "          84       0.63      0.63      0.63        30\n",
            "          85       0.62      0.53      0.57        38\n",
            "          86       0.60      0.59      0.60        44\n",
            "          87       0.33      0.34      0.33        41\n",
            "          88       0.45      0.40      0.42        45\n",
            "          89       0.53      0.40      0.46        42\n",
            "          90       0.33      0.31      0.32        42\n",
            "          91       0.36      0.34      0.35        38\n",
            "          92       0.19      0.26      0.22        46\n",
            "          93       0.24      0.40      0.30        42\n",
            "          94       0.19      0.17      0.18        40\n",
            "          95       0.41      0.34      0.37        38\n",
            "          96       0.50      0.39      0.44        38\n",
            "          97       0.41      0.47      0.43        43\n",
            "          98       0.18      0.21      0.19        43\n",
            "          99       0.67      0.45      0.54        40\n",
            "         100       0.28      0.28      0.28        40\n",
            "         101       0.29      0.35      0.32        43\n",
            "         102       0.55      0.70      0.62        46\n",
            "         103       0.62      0.67      0.64        42\n",
            "         104       0.45      0.44      0.44        41\n",
            "         105       0.74      0.76      0.75        45\n",
            "         106       0.56      0.47      0.51        43\n",
            "         107       0.80      0.80      0.80        40\n",
            "         108       0.08      0.03      0.04        32\n",
            "         109       0.39      0.48      0.43        46\n",
            "         110       0.46      0.55      0.50        42\n",
            "         111       0.18      0.14      0.16        42\n",
            "         112       0.23      0.28      0.26        39\n",
            "         113       0.23      0.20      0.21        45\n",
            "         114       0.50      0.28      0.36        39\n",
            "         115       0.56      0.53      0.55        34\n",
            "         116       0.53      0.54      0.54        35\n",
            "         117       0.41      0.41      0.41        41\n",
            "         118       0.20      0.26      0.22        42\n",
            "         119       0.35      0.16      0.22        43\n",
            "         120       0.44      0.29      0.35        41\n",
            "         121       0.32      0.32      0.32        44\n",
            "         122       0.43      0.46      0.45        41\n",
            "         123       0.39      0.52      0.45        42\n",
            "         124       0.25      0.41      0.31        44\n",
            "         125       0.15      0.07      0.10        41\n",
            "         126       0.34      0.32      0.33        41\n",
            "         127       0.43      0.53      0.48        38\n",
            "         128       0.30      0.33      0.31        40\n",
            "         129       0.35      0.44      0.39        36\n",
            "         130       0.38      0.33      0.35        42\n",
            "         131       0.64      0.59      0.61        39\n",
            "         132       0.58      0.54      0.56        35\n",
            "         133       0.41      0.38      0.39        34\n",
            "         134       0.37      0.24      0.29        46\n",
            "         135       0.45      0.39      0.41        44\n",
            "         136       0.44      0.38      0.41        32\n",
            "         137       0.52      0.56      0.54        43\n",
            "         138       0.39      0.34      0.36        35\n",
            "         139       0.45      0.48      0.47        42\n",
            "         140       0.67      0.43      0.52        37\n",
            "         141       0.36      0.25      0.29        40\n",
            "         142       0.56      0.45      0.50        42\n",
            "         143       0.34      0.44      0.38        43\n",
            "         144       0.75      0.51      0.61        41\n",
            "         145       0.52      0.39      0.44        44\n",
            "         146       0.38      0.35      0.36        40\n",
            "         147       0.30      0.18      0.23        39\n",
            "         148       0.35      0.41      0.38        46\n",
            "         149       0.56      0.49      0.52        37\n",
            "         150       0.37      0.43      0.40        44\n",
            "         151       0.49      0.50      0.49        44\n",
            "         152       0.38      0.50      0.43        44\n",
            "         153       0.76      0.78      0.77        36\n",
            "         154       0.31      0.30      0.31        43\n",
            "         155       0.29      0.30      0.29        37\n",
            "         156       0.24      0.39      0.30        44\n",
            "         157       0.29      0.28      0.28        29\n",
            "         158       0.27      0.36      0.30        45\n",
            "         159       0.38      0.24      0.30        41\n",
            "         160       0.35      0.29      0.32        38\n",
            "         161       0.64      0.45      0.53        40\n",
            "         162       0.34      0.63      0.44        38\n",
            "         163       0.33      0.33      0.33        39\n",
            "         164       0.56      0.57      0.56        42\n",
            "         165       0.30      0.26      0.28        35\n",
            "         166       0.33      0.27      0.30        45\n",
            "         167       0.22      0.18      0.20        44\n",
            "         168       0.35      0.44      0.39        43\n",
            "         169       0.35      0.20      0.26        44\n",
            "         170       0.35      0.51      0.42        43\n",
            "         171       0.38      0.40      0.39        40\n",
            "         172       0.61      0.51      0.56        37\n",
            "         173       0.42      0.40      0.41        48\n",
            "         174       0.33      0.47      0.39        45\n",
            "         175       0.79      0.63      0.70        43\n",
            "         176       0.82      0.69      0.75        45\n",
            "         177       0.37      0.58      0.45        45\n",
            "         178       0.34      0.35      0.35        40\n",
            "         179       0.49      0.52      0.51        42\n",
            "         180       0.71      0.74      0.73        43\n",
            "         181       0.48      0.48      0.48        42\n",
            "         182       0.39      0.39      0.39        44\n",
            "         183       0.68      0.64      0.66        39\n",
            "         184       0.77      0.55      0.64        44\n",
            "         185       0.30      0.39      0.34        41\n",
            "         186       0.54      0.49      0.51        41\n",
            "         187       0.32      0.55      0.40        38\n",
            "         188       0.68      0.38      0.48        40\n",
            "         189       0.73      0.41      0.52        39\n",
            "         190       0.41      0.33      0.36        43\n",
            "         191       0.38      0.42      0.40        45\n",
            "         192       0.36      0.39      0.37        41\n",
            "         193       0.33      0.45      0.38        42\n",
            "         194       0.41      0.37      0.39        46\n",
            "         195       0.81      0.63      0.71        27\n",
            "\n",
            "    accuracy                           0.45      8041\n",
            "   macro avg       0.46      0.45      0.45      8041\n",
            "weighted avg       0.46      0.45      0.45      8041\n",
            "\n",
            "Accuracy =  0.4506902126601169\n"
          ],
          "name": "stdout"
        }
      ]
    },
    {
      "cell_type": "code",
      "metadata": {
        "id": "qF0N7XSqqBhG",
        "colab_type": "code",
        "colab": {}
      },
      "source": [
        ""
      ],
      "execution_count": 0,
      "outputs": []
    }
  ]
}